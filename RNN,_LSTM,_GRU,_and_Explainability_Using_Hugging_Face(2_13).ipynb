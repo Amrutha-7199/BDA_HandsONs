{
  "nbformat": 4,
  "nbformat_minor": 0,
  "metadata": {
    "colab": {
      "provenance": []
    },
    "kernelspec": {
      "name": "python3",
      "display_name": "Python 3"
    },
    "language_info": {
      "name": "python"
    }
  },
  "cells": [
    {
      "cell_type": "code",
      "source": [
        "!pip install torch torchvision scikit-learn matplotlib"
      ],
      "metadata": {
        "colab": {
          "base_uri": "https://localhost:8080/"
        },
        "id": "uJKhF6hhZK1v",
        "outputId": "f1559b59-6b86-4104-8000-9e68d011ca0c"
      },
      "execution_count": 1,
      "outputs": [
        {
          "output_type": "stream",
          "name": "stdout",
          "text": [
            "Requirement already satisfied: torch in /usr/local/lib/python3.11/dist-packages (2.5.1+cu124)\n",
            "Requirement already satisfied: torchvision in /usr/local/lib/python3.11/dist-packages (0.20.1+cu124)\n",
            "Requirement already satisfied: scikit-learn in /usr/local/lib/python3.11/dist-packages (1.6.1)\n",
            "Requirement already satisfied: matplotlib in /usr/local/lib/python3.11/dist-packages (3.10.0)\n",
            "Requirement already satisfied: filelock in /usr/local/lib/python3.11/dist-packages (from torch) (3.17.0)\n",
            "Requirement already satisfied: typing-extensions>=4.8.0 in /usr/local/lib/python3.11/dist-packages (from torch) (4.12.2)\n",
            "Requirement already satisfied: networkx in /usr/local/lib/python3.11/dist-packages (from torch) (3.4.2)\n",
            "Requirement already satisfied: jinja2 in /usr/local/lib/python3.11/dist-packages (from torch) (3.1.5)\n",
            "Requirement already satisfied: fsspec in /usr/local/lib/python3.11/dist-packages (from torch) (2024.10.0)\n",
            "Requirement already satisfied: nvidia-cuda-nvrtc-cu12==12.4.127 in /usr/local/lib/python3.11/dist-packages (from torch) (12.4.127)\n",
            "Requirement already satisfied: nvidia-cuda-runtime-cu12==12.4.127 in /usr/local/lib/python3.11/dist-packages (from torch) (12.4.127)\n",
            "Requirement already satisfied: nvidia-cuda-cupti-cu12==12.4.127 in /usr/local/lib/python3.11/dist-packages (from torch) (12.4.127)\n",
            "Requirement already satisfied: nvidia-cudnn-cu12==9.1.0.70 in /usr/local/lib/python3.11/dist-packages (from torch) (9.1.0.70)\n",
            "Requirement already satisfied: nvidia-cublas-cu12==12.4.5.8 in /usr/local/lib/python3.11/dist-packages (from torch) (12.4.5.8)\n",
            "Requirement already satisfied: nvidia-cufft-cu12==11.2.1.3 in /usr/local/lib/python3.11/dist-packages (from torch) (11.2.1.3)\n",
            "Requirement already satisfied: nvidia-curand-cu12==10.3.5.147 in /usr/local/lib/python3.11/dist-packages (from torch) (10.3.5.147)\n",
            "Requirement already satisfied: nvidia-cusolver-cu12==11.6.1.9 in /usr/local/lib/python3.11/dist-packages (from torch) (11.6.1.9)\n",
            "Requirement already satisfied: nvidia-cusparse-cu12==12.3.1.170 in /usr/local/lib/python3.11/dist-packages (from torch) (12.3.1.170)\n",
            "Requirement already satisfied: nvidia-nccl-cu12==2.21.5 in /usr/local/lib/python3.11/dist-packages (from torch) (2.21.5)\n",
            "Requirement already satisfied: nvidia-nvtx-cu12==12.4.127 in /usr/local/lib/python3.11/dist-packages (from torch) (12.4.127)\n",
            "Requirement already satisfied: nvidia-nvjitlink-cu12==12.4.127 in /usr/local/lib/python3.11/dist-packages (from torch) (12.4.127)\n",
            "Requirement already satisfied: triton==3.1.0 in /usr/local/lib/python3.11/dist-packages (from torch) (3.1.0)\n",
            "Requirement already satisfied: sympy==1.13.1 in /usr/local/lib/python3.11/dist-packages (from torch) (1.13.1)\n",
            "Requirement already satisfied: mpmath<1.4,>=1.1.0 in /usr/local/lib/python3.11/dist-packages (from sympy==1.13.1->torch) (1.3.0)\n",
            "Requirement already satisfied: numpy in /usr/local/lib/python3.11/dist-packages (from torchvision) (1.26.4)\n",
            "Requirement already satisfied: pillow!=8.3.*,>=5.3.0 in /usr/local/lib/python3.11/dist-packages (from torchvision) (11.1.0)\n",
            "Requirement already satisfied: scipy>=1.6.0 in /usr/local/lib/python3.11/dist-packages (from scikit-learn) (1.13.1)\n",
            "Requirement already satisfied: joblib>=1.2.0 in /usr/local/lib/python3.11/dist-packages (from scikit-learn) (1.4.2)\n",
            "Requirement already satisfied: threadpoolctl>=3.1.0 in /usr/local/lib/python3.11/dist-packages (from scikit-learn) (3.5.0)\n",
            "Requirement already satisfied: contourpy>=1.0.1 in /usr/local/lib/python3.11/dist-packages (from matplotlib) (1.3.1)\n",
            "Requirement already satisfied: cycler>=0.10 in /usr/local/lib/python3.11/dist-packages (from matplotlib) (0.12.1)\n",
            "Requirement already satisfied: fonttools>=4.22.0 in /usr/local/lib/python3.11/dist-packages (from matplotlib) (4.55.8)\n",
            "Requirement already satisfied: kiwisolver>=1.3.1 in /usr/local/lib/python3.11/dist-packages (from matplotlib) (1.4.8)\n",
            "Requirement already satisfied: packaging>=20.0 in /usr/local/lib/python3.11/dist-packages (from matplotlib) (24.2)\n",
            "Requirement already satisfied: pyparsing>=2.3.1 in /usr/local/lib/python3.11/dist-packages (from matplotlib) (3.2.1)\n",
            "Requirement already satisfied: python-dateutil>=2.7 in /usr/local/lib/python3.11/dist-packages (from matplotlib) (2.8.2)\n",
            "Requirement already satisfied: six>=1.5 in /usr/local/lib/python3.11/dist-packages (from python-dateutil>=2.7->matplotlib) (1.17.0)\n",
            "Requirement already satisfied: MarkupSafe>=2.0 in /usr/local/lib/python3.11/dist-packages (from jinja2->torch) (3.0.2)\n"
          ]
        }
      ]
    },
    {
      "cell_type": "code",
      "source": [
        "import pandas as pd\n",
        "import numpy as np\n"
      ],
      "metadata": {
        "id": "zUTdNFyNdmyG"
      },
      "execution_count": 2,
      "outputs": []
    },
    {
      "cell_type": "code",
      "source": [
        "import torch"
      ],
      "metadata": {
        "id": "tLwuREWZd0zh"
      },
      "execution_count": 3,
      "outputs": []
    },
    {
      "cell_type": "code",
      "execution_count": 4,
      "metadata": {
        "id": "5g3CQ0lkagCW"
      },
      "outputs": [],
      "source": [
        "import torch.nn as nn\n",
        "import torch.optim as optim\n",
        "from torch.utils.data import DataLoader, TensorDataset\n",
        "from transformers import pipeline\n",
        "import matplotlib.pyplot as plt\n",
        "\n",
        "# Load the dataset\n",
        "df = pd.read_csv('salaries.csv')\n",
        "\n"
      ]
    },
    {
      "cell_type": "code",
      "source": [
        "# Data Preprocessing: Handling missing values\n",
        "df = df[['max_salary', 'min_salary']].dropna()\n",
        "X = df[['min_salary']].values  # Using min_salary as input\n",
        "y = df[['max_salary']].values  # Predicting max_salary"
      ],
      "metadata": {
        "id": "BfpHLazFa1v7"
      },
      "execution_count": 5,
      "outputs": []
    },
    {
      "cell_type": "code",
      "source": [
        "# Normalize the data\n",
        "X = (X - X.min()) / (X.max() - X.min())\n",
        "y = (y - y.min()) / (y.max() - y.min())\n"
      ],
      "metadata": {
        "id": "nhi-WUsjgvMN"
      },
      "execution_count": 6,
      "outputs": []
    },
    {
      "cell_type": "code",
      "source": [
        "# Convert to tensors\n",
        "X_tensor = torch.tensor(X, dtype=torch.float32)\n",
        "y_tensor = torch.tensor(y, dtype=torch.float32)\n",
        "\n",
        "dataset = TensorDataset(X_tensor, y_tensor)\n",
        "dataloader = DataLoader(dataset, batch_size=64, shuffle=True)"
      ],
      "metadata": {
        "id": "LJesN3T_hB9f"
      },
      "execution_count": 7,
      "outputs": []
    },
    {
      "cell_type": "code",
      "source": [
        "# Define RNN, LSTM, and GRU models\n",
        "class SalaryPredictor(nn.Module):\n",
        "    def __init__(self, model_type='RNN'):\n",
        "        super(SalaryPredictor, self).__init__()\n",
        "        self.hidden_size = 50\n",
        "        self.model_type = model_type\n",
        "        self.input_size = 1\n",
        "\n",
        "        if model_type == 'RNN':\n",
        "            self.rnn = nn.RNN(self.input_size, self.hidden_size, batch_first=True)\n",
        "        elif model_type == 'LSTM':\n",
        "            self.rnn = nn.LSTM(self.input_size, self.hidden_size, batch_first=True)\n",
        "        elif model_type == 'GRU':\n",
        "            self.rnn = nn.GRU(self.input_size, self.hidden_size, batch_first=True)\n",
        "\n",
        "        self.fc = nn.Linear(self.hidden_size, 1)\n",
        "    def forward(self, x):\n",
        "        x = x.unsqueeze(2)  # Add sequence dimension\n",
        "        out, _ = self.rnn(x)\n",
        "        out = self.fc(out[:, -1, :])\n",
        "        return out"
      ],
      "metadata": {
        "id": "i-S-yus3hFlE"
      },
      "execution_count": 8,
      "outputs": []
    },
    {
      "cell_type": "code",
      "source": [
        "# Training function\n",
        "def train_model(model, dataloader, epochs=20):\n",
        "    criterion = nn.MSELoss()\n",
        "    optimizer = optim.Adam(model.parameters(), lr=0.01)\n",
        "    losses = []\n",
        "\n",
        "    for epoch in range(epochs):\n",
        "        for batch in dataloader:\n",
        "            X_batch, y_batch = batch\n",
        "            optimizer.zero_grad()\n",
        "            outputs = model(X_batch)\n",
        "            loss = criterion(outputs, y_batch)\n",
        "            loss.backward()\n",
        "            optimizer.step()\n",
        "        losses.append(loss.item())\n",
        "        print(f\"Epoch {epoch+1}/{epochs}, Loss: {loss.item():.4f}\")\n",
        "    return losses"
      ],
      "metadata": {
        "id": "ONPx9bxehJtO"
      },
      "execution_count": 9,
      "outputs": []
    },
    {
      "cell_type": "code",
      "source": [
        "# Train and compare models\n",
        "models = {'RNN': SalaryPredictor('RNN'), 'LSTM': SalaryPredictor('LSTM'), 'GRU': SalaryPredictor('GRU')}\n",
        "losses = {}\n",
        "\n",
        "for name, model in models.items():\n",
        "    print(f\"Training {name}...\")\n",
        "    losses[name] = train_model(model, dataloader)\n",
        "\n",
        "# Plot loss curves\n",
        "plt.figure(figsize=(10,5))\n",
        "for name, loss in losses.items():\n",
        "    plt.plot(loss, label=name)\n",
        "plt.xlabel('Epochs')\n",
        "plt.ylabel('Loss')\n",
        "plt.legend()\n",
        "plt.title('Training Loss Comparison')\n",
        "plt.show()"
      ],
      "metadata": {
        "id": "LeifJNQzhOTX",
        "colab": {
          "base_uri": "https://localhost:8080/",
          "height": 1000
        },
        "outputId": "86855aa8-d68b-4b1a-c1e7-9bbc77e247e9"
      },
      "execution_count": 10,
      "outputs": [
        {
          "output_type": "stream",
          "name": "stdout",
          "text": [
            "Training RNN...\n",
            "Epoch 1/20, Loss: 0.0000\n",
            "Epoch 2/20, Loss: 0.0000\n",
            "Epoch 3/20, Loss: 0.0000\n",
            "Epoch 4/20, Loss: 0.0000\n",
            "Epoch 5/20, Loss: 0.0000\n",
            "Epoch 6/20, Loss: 0.0000\n",
            "Epoch 7/20, Loss: 0.0000\n",
            "Epoch 8/20, Loss: 0.0000\n",
            "Epoch 9/20, Loss: 0.0000\n",
            "Epoch 10/20, Loss: 0.0000\n",
            "Epoch 11/20, Loss: 0.0000\n",
            "Epoch 12/20, Loss: 0.0000\n",
            "Epoch 13/20, Loss: 0.0000\n",
            "Epoch 14/20, Loss: 0.0000\n",
            "Epoch 15/20, Loss: 0.0000\n",
            "Epoch 16/20, Loss: 0.0000\n",
            "Epoch 17/20, Loss: 0.0000\n",
            "Epoch 18/20, Loss: 0.0000\n",
            "Epoch 19/20, Loss: 0.0000\n",
            "Epoch 20/20, Loss: 0.0000\n",
            "Training LSTM...\n",
            "Epoch 1/20, Loss: 0.0000\n",
            "Epoch 2/20, Loss: 0.0000\n",
            "Epoch 3/20, Loss: 0.0000\n",
            "Epoch 4/20, Loss: 0.0000\n",
            "Epoch 5/20, Loss: 0.0000\n",
            "Epoch 6/20, Loss: 0.0000\n",
            "Epoch 7/20, Loss: 0.0000\n",
            "Epoch 8/20, Loss: 0.0000\n",
            "Epoch 9/20, Loss: 0.0000\n",
            "Epoch 10/20, Loss: 0.0000\n",
            "Epoch 11/20, Loss: 0.0000\n",
            "Epoch 12/20, Loss: 0.0000\n",
            "Epoch 13/20, Loss: 0.0000\n",
            "Epoch 14/20, Loss: 0.0000\n",
            "Epoch 15/20, Loss: 0.0000\n",
            "Epoch 16/20, Loss: 0.0000\n",
            "Epoch 17/20, Loss: 0.0000\n",
            "Epoch 18/20, Loss: 0.0000\n",
            "Epoch 19/20, Loss: 0.0000\n",
            "Epoch 20/20, Loss: 0.0000\n",
            "Training GRU...\n",
            "Epoch 1/20, Loss: 0.0000\n",
            "Epoch 2/20, Loss: 0.0000\n",
            "Epoch 3/20, Loss: 0.0000\n",
            "Epoch 4/20, Loss: 0.0000\n",
            "Epoch 5/20, Loss: 0.0000\n",
            "Epoch 6/20, Loss: 0.0000\n",
            "Epoch 7/20, Loss: 0.0000\n",
            "Epoch 8/20, Loss: 0.0001\n",
            "Epoch 9/20, Loss: 0.0000\n",
            "Epoch 10/20, Loss: 0.0000\n",
            "Epoch 11/20, Loss: 0.0000\n",
            "Epoch 12/20, Loss: 0.0000\n",
            "Epoch 13/20, Loss: 0.0000\n",
            "Epoch 14/20, Loss: 0.0000\n",
            "Epoch 15/20, Loss: 0.0000\n",
            "Epoch 16/20, Loss: 0.0000\n",
            "Epoch 17/20, Loss: 0.0000\n",
            "Epoch 18/20, Loss: 0.0000\n",
            "Epoch 19/20, Loss: 0.0000\n",
            "Epoch 20/20, Loss: 0.0000\n"
          ]
        },
        {
          "output_type": "display_data",
          "data": {
            "text/plain": [
              "<Figure size 1000x500 with 1 Axes>"
            ],
            "image/png": "[encoded data removed]"
          },
          "metadata": {}
        }
      ]
    },
    {
      "cell_type": "code",
      "source": [
        "from transformers import pipeline\n",
        "explainer = pipeline(\"text-generation\", model=\"gpt2\")  # Using a lighter model\n",
        "prompt = \"Explain the differences between RNN, LSTM, and GRU performance using this approach\"\n",
        "explanation = explainer(prompt, max_length=350)  # Reduced max_length to save memory\n",
        "print(\"\\nExplainability Output:\", explanation[0][\"generated_text\"])"
      ],
      "metadata": {
        "colab": {
          "base_uri": "https://localhost:8080/"
        },
        "id": "ReN6c2BkhR-X",
        "outputId": "cba8fb24-fe33-4bed-a433-78596b96ed0f"
      },
      "execution_count": 1,
      "outputs": [
        {
          "output_type": "stream",
          "name": "stderr",
          "text": [
            "Device set to use cpu\n",
            "Truncation was not explicitly activated but `max_length` is provided a specific value, please use `truncation=True` to explicitly truncate examples to max length. Defaulting to 'longest_first' truncation strategy. If you encode pairs of sequences (GLUE-style) with the tokenizer you can select this strategy more precisely by providing a specific strategy to `truncation`.\n",
            "Setting `pad_token_id` to `eos_token_id`:50256 for open-end generation.\n"
          ]
        },
        {
          "output_type": "stream",
          "name": "stdout",
          "text": [
            "\n",
            "Explainability Output: Explain the differences between RNN, LSTM, and GRU performance using this approach\n",
            "\n",
            "//\n",
            "\n",
            "/// Evaluate rng-tasks and other tasks and create tasks\n",
            "\n",
            "///\n",
            "\n",
            "/// Note that this is not a perfect solution, so i didn't define it like we usually do for RNN tasks.\n",
            "\n",
            "p: rn | rng\n",
            "\n",
            "//\n",
            "\n",
            "///\n",
            "\n",
            "/// The main issue we're facing when generating the task parameters is that we want to be able to control when\n",
            "\n",
            "/// it starts and stop. With that limitation, we end up using a different code and we\n",
            "\n",
            "/// have to make sure there's a good chance that we're generating the \"progressive\" behavior.\n",
            "\n",
            "p: i = rn | rng | >> [\n",
            "\n",
            "[ i. start, i. stop, ctx_tasks ]\n",
            "\n",
            "]\n",
            "\n",
            "//\n",
            "\n",
            "/// We then need to make sure that we have a good chance to generate the outputs.\n",
            "\n",
            "//\n",
            "\n",
            "/// This is where i_start comes in, so let's use it:\n",
            "\n",
            "///\n",
            "\n",
            "/// assert(i == 1)\n",
            "\n",
            "///\n",
            "\n",
            "/// # define RANDOM (m.rng_tasks: RNG[0], rng[1] | rng[2] | ctx_tasks[1])\n",
            "\n",
            "# define RANDOM (rng_tasks: RNG[0], rng[1] | rng[2] | ctx_tasks[1])\n",
            "\n",
            "# define RANDOM (rng_core:... | -- | ctx_tasks: r\n"
          ]
        }
      ]
    },
    {
      "cell_type": "code",
      "source": [],
      "metadata": {
        "id": "tWxRyfaplcw_"
      },
      "execution_count": null,
      "outputs": []
    }
  ]
}